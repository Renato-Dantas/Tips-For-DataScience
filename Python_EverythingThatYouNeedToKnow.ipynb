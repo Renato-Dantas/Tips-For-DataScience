{
 "cells": [
  {
   "cell_type": "markdown",
   "metadata": {},
   "source": [
    "## Print, Input and .Format"
   ]
  },
  {
   "cell_type": "markdown",
   "metadata": {},
   "source": [
    "**Our first command will be a simple phrase as result**"
   ]
  },
  {
   "cell_type": "code",
   "execution_count": 2,
   "metadata": {},
   "outputs": [
    {
     "name": "stdout",
     "output_type": "stream",
     "text": [
      "Hello World!\n"
     ]
    }
   ],
   "source": [
    "# To print something in the screen, use print()\n",
    "\n",
    "print('Hello World!')"
   ]
  },
  {
   "cell_type": "code",
   "execution_count": 3,
   "metadata": {},
   "outputs": [
    {
     "name": "stdout",
     "output_type": "stream",
     "text": [
      "Hello World\n"
     ]
    }
   ],
   "source": [
    "# To print strings, you need to use '' or \"\", for python, is the same\n",
    "\n",
    "print(\"Hello World\")"
   ]
  },
  {
   "cell_type": "code",
   "execution_count": 4,
   "metadata": {},
   "outputs": [
    {
     "name": "stdout",
     "output_type": "stream",
     "text": [
      "Hello World\n"
     ]
    }
   ],
   "source": [
    "# To print a variable, you just need to pass to the function the variable name\n",
    "\n",
    "x = 'Hello World'\n",
    "print(x)"
   ]
  },
  {
   "cell_type": "code",
   "execution_count": 5,
   "metadata": {},
   "outputs": [
    {
     "name": "stdout",
     "output_type": "stream",
     "text": [
      "4\n"
     ]
    }
   ],
   "source": [
    "# To print numbers, you don't need to use \"\"\n",
    "\n",
    "print(4)"
   ]
  },
  {
   "cell_type": "code",
   "execution_count": 6,
   "metadata": {},
   "outputs": [
    {
     "name": "stdout",
     "output_type": "stream",
     "text": [
      "13\n"
     ]
    }
   ],
   "source": [
    "# Is possíble use print function to show a math answer directly\n",
    "\n",
    "print(5+8) # IS NOT ALLOWED print a math equation using strings, only numbers!"
   ]
  },
  {
   "cell_type": "code",
   "execution_count": 8,
   "metadata": {},
   "outputs": [
    {
     "name": "stdout",
     "output_type": "stream",
     "text": [
      "Please, type you username: Renato\n"
     ]
    }
   ],
   "source": [
    "# To get from an user some information and print it, you can use input function\n",
    "# Let's get the name of the user, save in a variable and them print into a phrase\n",
    "\n",
    "username = input('Please, type you username: ') # You can pass to user a phrase inside the input function\n",
    "\n",
    "# Whatever what the user type, this will be saved inside the variable \"username\""
   ]
  },
  {
   "cell_type": "code",
   "execution_count": 9,
   "metadata": {},
   "outputs": [
    {
     "name": "stdout",
     "output_type": "stream",
     "text": [
      "Renato\n"
     ]
    }
   ],
   "source": [
    "# Now, We can print the username saved \n",
    "\n",
    "print(username)"
   ]
  },
  {
   "cell_type": "code",
   "execution_count": 12,
   "metadata": {},
   "outputs": [
    {
     "name": "stdout",
     "output_type": "stream",
     "text": [
      "Please, type X: 20\n",
      "Please, type Y: 3\n"
     ]
    }
   ],
   "source": [
    "# Let's use the input to get two numbers and make some math operation with them\n",
    "\n",
    "x= int(input('Please, type X: ')) # To use the user inputed value as number, YOU NEED TRANSFORM IT TO INT OR FLOAT\n",
    "y = int(input('Please, type Y: ')) # The input function always will get a string, for this, is needed to transform to number"
   ]
  },
  {
   "cell_type": "code",
   "execution_count": 13,
   "metadata": {},
   "outputs": [
    {
     "name": "stdout",
     "output_type": "stream",
     "text": [
      "60\n"
     ]
    }
   ],
   "source": [
    "# Let's print the multiplication\n",
    "\n",
    "print(x*y)"
   ]
  },
  {
   "cell_type": "code",
   "execution_count": 14,
   "metadata": {},
   "outputs": [
    {
     "name": "stdout",
     "output_type": "stream",
     "text": [
      "Please, type your name: Renato\n",
      "Please, type your last nameDantas\n"
     ]
    }
   ],
   "source": [
    "# Now, let's format our print. Let's get the name and last name from the user\n",
    "\n",
    "name = input('Please, type your name: ')\n",
    "lastname = input(\"Please, type your last name\")"
   ]
  },
  {
   "cell_type": "code",
   "execution_count": 17,
   "metadata": {},
   "outputs": [
    {
     "name": "stdout",
     "output_type": "stream",
     "text": [
      "Good night Renato Dantas\n"
     ]
    }
   ],
   "source": [
    "# Let's put this variables inside a phrase\n",
    "\n",
    "print('Good night ' + name + ' '+ lastname)\n",
    "\n",
    "# We used here concatenation to \"sum\" the variables to our phrase\n",
    "# Attemption >>> you will need to \"sum\" the space inside the phrase too"
   ]
  },
  {
   "cell_type": "code",
   "execution_count": 20,
   "metadata": {},
   "outputs": [
    {
     "name": "stdout",
     "output_type": "stream",
     "text": [
      "Good night  Renato  Dantas\n"
     ]
    }
   ],
   "source": [
    "# Let's use another kind of concatenation\n",
    "\n",
    "print('Good night ', name, '', lastname) # We just change the \"+\" for \",\""
   ]
  },
  {
   "cell_type": "code",
   "execution_count": 22,
   "metadata": {},
   "outputs": [
    {
     "name": "stdout",
     "output_type": "stream",
     "text": [
      "Good night Renato Dantas\n"
     ]
    }
   ],
   "source": [
    "# Now, the better way! FORMAT!!!\n",
    "\n",
    "print('Good night {} {}'.format(name,lastname))\n",
    "\n",
    "# We use this {} as a box to our variables\n",
    "# After the phrase, use .format(variable1, variable2, variable_n) You just need to follow the order to input the variables"
   ]
  },
  {
   "cell_type": "code",
   "execution_count": 23,
   "metadata": {},
   "outputs": [
    {
     "name": "stdout",
     "output_type": "stream",
     "text": [
      "Our best scientist Peter Parker receive about $6000 per month\n"
     ]
    }
   ],
   "source": [
    "# Let's print variables and use math inside the .format\n",
    "\n",
    "name = 'Peter'\n",
    "lastname = 'Parker'\n",
    "salary = 5000\n",
    "bonus = 1000\n",
    "\n",
    "print(\"Our best scientist {} {} receive about ${} per month\".format(name,lastname,(salary+bonus)))"
   ]
  },
  {
   "cell_type": "markdown",
   "metadata": {},
   "source": [
    "## Let's learn about variables"
   ]
  },
  {
   "cell_type": "code",
   "execution_count": 25,
   "metadata": {},
   "outputs": [
    {
     "data": {
      "text/plain": [
       "str"
      ]
     },
     "execution_count": 25,
     "metadata": {},
     "output_type": "execute_result"
    }
   ],
   "source": [
    "# To see the variable kind, you can use type() function\n",
    "\n",
    "x = 'Here we have a phrase'\n",
    "\n",
    "type(x)"
   ]
  },
  {
   "cell_type": "code",
   "execution_count": 27,
   "metadata": {},
   "outputs": [
    {
     "data": {
      "text/plain": [
       "str"
      ]
     },
     "execution_count": 27,
     "metadata": {},
     "output_type": "execute_result"
    }
   ],
   "source": [
    "# To transform a variable, you can type:\n",
    "x = '4'\n",
    "type(x)"
   ]
  },
  {
   "cell_type": "code",
   "execution_count": 28,
   "metadata": {},
   "outputs": [
    {
     "data": {
      "text/plain": [
       "int"
      ]
     },
     "execution_count": 28,
     "metadata": {},
     "output_type": "execute_result"
    }
   ],
   "source": [
    "# Let's tranform to number (int or float)\n",
    "\n",
    "x_transformed= int(x)\n",
    "type(x_transformed) \n",
    "\n",
    "# It's impossible to transform a word in a number! It's kind obviously, but it's here for you remember."
   ]
  },
  {
   "cell_type": "code",
   "execution_count": 30,
   "metadata": {},
   "outputs": [
    {
     "name": "stdout",
     "output_type": "stream",
     "text": [
      "45\n"
     ]
    }
   ],
   "source": [
    "# What happen if you sum a str to another string?\n",
    "\n",
    "x = '4'\n",
    "y = '5'\n",
    "\n",
    "print(x+y)"
   ]
  },
  {
   "cell_type": "markdown",
   "metadata": {},
   "source": [
    "## The basic about Lists"
   ]
  },
  {
   "cell_type": "code",
   "execution_count": 38,
   "metadata": {},
   "outputs": [
    {
     "data": {
      "text/plain": [
       "list"
      ]
     },
     "execution_count": 38,
     "metadata": {},
     "output_type": "execute_result"
    }
   ],
   "source": [
    "# To create a list, you use []\n",
    "\n",
    "list_1 = []\n",
    "type(list_1)"
   ]
  },
  {
   "cell_type": "code",
   "execution_count": 40,
   "metadata": {},
   "outputs": [],
   "source": [
    "# We can put inside the list anything, strings, numbers, even other list!\n",
    "\n",
    "list_1 = ['Renato','Dantas',1,2,3,['Bia',23,65]]"
   ]
  },
  {
   "cell_type": "code",
   "execution_count": 42,
   "metadata": {},
   "outputs": [
    {
     "data": {
      "text/plain": [
       "2"
      ]
     },
     "execution_count": 42,
     "metadata": {},
     "output_type": "execute_result"
    }
   ],
   "source": [
    "# Each item inside the list has a \"address\" called index, starting from zero \n",
    "# To acess one item by the \"address\", use the list name and [] with the index\n",
    "\n",
    "#let's get the 3° item of our list, from the zero index, that need to return the number 2\n",
    "list_1[3]"
   ]
  },
  {
   "cell_type": "code",
   "execution_count": 45,
   "metadata": {},
   "outputs": [
    {
     "data": {
      "text/plain": [
       "['Bia', 23, 65]"
      ]
     },
     "execution_count": 45,
     "metadata": {},
     "output_type": "execute_result"
    }
   ],
   "source": [
    "# To acess a list inside other list, use the same logic\n",
    "\n",
    "list_1[5]"
   ]
  },
  {
   "cell_type": "code",
   "execution_count": 44,
   "metadata": {},
   "outputs": [
    {
     "data": {
      "text/plain": [
       "'Bia'"
      ]
     },
     "execution_count": 44,
     "metadata": {},
     "output_type": "execute_result"
    }
   ],
   "source": [
    "# To return an item from a list that is inside another list, use the index of each list like:\n",
    "\n",
    "list_1[5][0]"
   ]
  },
  {
   "cell_type": "code",
   "execution_count": 60,
   "metadata": {},
   "outputs": [
    {
     "data": {
      "text/plain": [
       "['Renato', 'Dantas', 1, 2, 3, ['Bia', 23, 65], 'Science!']"
      ]
     },
     "execution_count": 60,
     "metadata": {},
     "output_type": "execute_result"
    }
   ],
   "source": [
    "# Add items inside a list\n",
    "\n",
    "list_1.append('Science!')\n",
    "list_1"
   ]
  },
  {
   "cell_type": "code",
   "execution_count": 61,
   "metadata": {},
   "outputs": [],
   "source": [
    "# Removing items from a list\n",
    "list_1.remove('Science!')"
   ]
  },
  {
   "cell_type": "code",
   "execution_count": 62,
   "metadata": {},
   "outputs": [
    {
     "data": {
      "text/plain": [
       "['Renato', 'Dantas', 1, 2, 3, ['Bia', 23, 65]]"
      ]
     },
     "execution_count": 62,
     "metadata": {},
     "output_type": "execute_result"
    }
   ],
   "source": [
    "list_1"
   ]
  },
  {
   "cell_type": "code",
   "execution_count": 85,
   "metadata": {},
   "outputs": [
    {
     "data": {
      "text/plain": [
       "['Renato', 'Dantas', 1, 2]"
      ]
     },
     "execution_count": 85,
     "metadata": {},
     "output_type": "execute_result"
    }
   ],
   "source": [
    "# We can get some items from a list using slicing\n",
    "\n",
    "list_1[:4] # Return the items from zero to 4 index"
   ]
  },
  {
   "cell_type": "code",
   "execution_count": 86,
   "metadata": {},
   "outputs": [
    {
     "data": {
      "text/plain": [
       "[3, ['Bia', 23, 65]]"
      ]
     },
     "execution_count": 86,
     "metadata": {},
     "output_type": "execute_result"
    }
   ],
   "source": [
    "list_1[4:] #Return the itens from the index 4 to the end"
   ]
  },
  {
   "cell_type": "code",
   "execution_count": 89,
   "metadata": {},
   "outputs": [
    {
     "data": {
      "text/plain": [
       "['Bia', 23]"
      ]
     },
     "execution_count": 89,
     "metadata": {},
     "output_type": "execute_result"
    }
   ],
   "source": [
    "list_1[5][:2] # Return, from the list inside the list (index 5) the items from zero to 2 index"
   ]
  },
  {
   "cell_type": "markdown",
   "metadata": {},
   "source": [
    "## Dictionaries!\n",
    "**A good way to save item relationated with a value, the dictionary receive a key and a value, that can be even a list too!**"
   ]
  },
  {
   "cell_type": "code",
   "execution_count": 64,
   "metadata": {},
   "outputs": [],
   "source": [
    "# To create a dictionary, use {key:value}\n",
    "dictionary = {'key':'value'}"
   ]
  },
  {
   "cell_type": "code",
   "execution_count": 65,
   "metadata": {},
   "outputs": [
    {
     "data": {
      "text/plain": [
       "{'key': 'value', 'newItem': 1000}"
      ]
     },
     "execution_count": 65,
     "metadata": {},
     "output_type": "execute_result"
    }
   ],
   "source": [
    "# Let's input items into our dictionary\n",
    "\n",
    "dictionary['newItem'] = 1000 \n",
    "\n",
    "# We can call the dictionary and inside [] create our key and pass trought '=' as the value\n",
    "\n",
    "dictionary"
   ]
  },
  {
   "cell_type": "code",
   "execution_count": 68,
   "metadata": {},
   "outputs": [
    {
     "data": {
      "text/plain": [
       "1000"
      ]
     },
     "execution_count": 68,
     "metadata": {},
     "output_type": "execute_result"
    }
   ],
   "source": [
    "# Let's get the value from a key of our dictionary\n",
    "dictionary['newItem']"
   ]
  },
  {
   "cell_type": "code",
   "execution_count": 79,
   "metadata": {},
   "outputs": [
    {
     "data": {
      "text/plain": [
       "dict_items([('key', 10), ('newItem', 1000)])"
      ]
     },
     "execution_count": 79,
     "metadata": {},
     "output_type": "execute_result"
    }
   ],
   "source": [
    "# To see each group of items in a dictionary\n",
    "dictionary.items()"
   ]
  },
  {
   "cell_type": "code",
   "execution_count": 69,
   "metadata": {},
   "outputs": [
    {
     "data": {
      "text/plain": [
       "dict_values(['value', 1000])"
      ]
     },
     "execution_count": 69,
     "metadata": {},
     "output_type": "execute_result"
    }
   ],
   "source": [
    "# To see each value of a dictionary\n",
    "dictionary.values()"
   ]
  },
  {
   "cell_type": "code",
   "execution_count": 70,
   "metadata": {},
   "outputs": [
    {
     "data": {
      "text/plain": [
       "dict_keys(['key', 'newItem'])"
      ]
     },
     "execution_count": 70,
     "metadata": {},
     "output_type": "execute_result"
    }
   ],
   "source": [
    "# To see each key of a dictionary\n",
    "dictionary.keys()"
   ]
  },
  {
   "cell_type": "code",
   "execution_count": 77,
   "metadata": {},
   "outputs": [
    {
     "data": {
      "text/plain": [
       "{'key': 10, 'newItem': 1000}"
      ]
     },
     "execution_count": 77,
     "metadata": {},
     "output_type": "execute_result"
    }
   ],
   "source": [
    "# To change a value for a key in a dictionary\n",
    "dictionary['key'] = 10\n",
    "dictionary"
   ]
  },
  {
   "cell_type": "code",
   "execution_count": 22,
   "metadata": {},
   "outputs": [
    {
     "data": {
      "text/plain": [
       "[('A', 1), ('B', 2), ('C', 3)]"
      ]
     },
     "execution_count": 22,
     "metadata": {},
     "output_type": "execute_result"
    }
   ],
   "source": [
    "# Sometimes, We need to change the type of a list or dictionary\n",
    "\n",
    "# To change a dictionary to a list use:\n",
    "\n",
    "dic ={'A':1, 'B':2, 'C':3}\n",
    "\n",
    "list(dic.items()) # Using dic.items() We got a list with tuples of key and value"
   ]
  },
  {
   "cell_type": "code",
   "execution_count": 31,
   "metadata": {},
   "outputs": [
    {
     "name": "stdout",
     "output_type": "stream",
     "text": [
      "List of keys: ['A', 'B', 'C']\n",
      "List of Values: [1, 2, 3]\n"
     ]
    }
   ],
   "source": [
    "# Let's create two list, one with the keys and other with the values\n",
    "\n",
    "list_key = list(dic.keys())\n",
    "list_value = list(dic.values())\n",
    "\n",
    "print('List of keys: {}\\nList of Values: {}'.format(list_key, list_value))"
   ]
  },
  {
   "cell_type": "code",
   "execution_count": 32,
   "metadata": {},
   "outputs": [
    {
     "data": {
      "text/plain": [
       "{'A': 1, 'B': 2, 'C': 3}"
      ]
     },
     "execution_count": 32,
     "metadata": {},
     "output_type": "execute_result"
    }
   ],
   "source": [
    "# Now, let's convert this lists into a dictionary using the function zip (that unite the two lists)\n",
    "\n",
    "dict(zip(list_key, list_value))"
   ]
  },
  {
   "cell_type": "markdown",
   "metadata": {},
   "source": [
    "## Let's learn about IF and Else\n",
    "\n",
    "**Basically, If and Else are used to create a decision that depends of one or more conditions**"
   ]
  },
  {
   "cell_type": "markdown",
   "metadata": {},
   "source": [
    "### For create a condition, you can use the operators:\n",
    "    x == y     ---> x and y are equals\n",
    "    x != y     ---> x is different from y\n",
    "    x < y      ---> x is smaller than y\n",
    "    x <= y     ---> x is smaller or equal to y\n",
    "    x > y      ---> x is bigger than y\n",
    "    x >= y     ---> x is bigger or equal to y"
   ]
  },
  {
   "cell_type": "code",
   "execution_count": 34,
   "metadata": {},
   "outputs": [
    {
     "name": "stdout",
     "output_type": "stream",
     "text": [
      "X is less or equal to 5!\n"
     ]
    }
   ],
   "source": [
    "# Let's creat a decision using If and Else\n",
    "\n",
    "x = 5\n",
    "\n",
    "if x <=5:\n",
    "    print('X is less or equal to 5!')\n",
    "else:\n",
    "    print('X is bigger than 5!')\n",
    "\n",
    "    \n",
    "# To understand the structure, think like this:\n",
    "\n",
    "#   if condition:\n",
    "#       do this\n",
    "#   else:\n",
    "#       do that\n",
    "\n",
    "# Is not necessary (even allowed) put a condition to else! "
   ]
  },
  {
   "cell_type": "code",
   "execution_count": 35,
   "metadata": {},
   "outputs": [
    {
     "name": "stdout",
     "output_type": "stream",
     "text": [
      "2.0\n"
     ]
    }
   ],
   "source": [
    "# Using to conditions:\n",
    "\n",
    "x = 5\n",
    "y = 10\n",
    "\n",
    "if x<=5 and y<10:\n",
    "    print(x*5)\n",
    "else:\n",
    "    print(y/x)\n",
    "\n",
    "# Here, the first condition is not true, because, even that x is less or equal to 5 is True, the second condition is False!"
   ]
  },
  {
   "cell_type": "code",
   "execution_count": 36,
   "metadata": {},
   "outputs": [
    {
     "name": "stdout",
     "output_type": "stream",
     "text": [
      "Condition 2 is True\n"
     ]
    }
   ],
   "source": [
    "# Using more than two decisions: Using Elif -> to elif, you need to pass a condition\n",
    "\n",
    "if x ==5 and y >10:\n",
    "    print('Condition 1 is True')\n",
    "elif x<5 or y==10:\n",
    "    print('Condition 2 is True')\n",
    "else:\n",
    "    print('Now, just the else is True')"
   ]
  },
  {
   "cell_type": "markdown",
   "metadata": {},
   "source": [
    "## Let's learn about WHILE\n",
    "\n",
    "**Basically, while function will be used to create a loop that depends of a condition to finish**"
   ]
  },
  {
   "cell_type": "code",
   "execution_count": 82,
   "metadata": {},
   "outputs": [
    {
     "name": "stdout",
     "output_type": "stream",
     "text": [
      "10\n",
      "9\n",
      "8\n",
      "7\n",
      "6\n",
      "5\n",
      "4\n",
      "3\n",
      "2\n",
      "1\n",
      "0\n"
     ]
    }
   ],
   "source": [
    "# First, before create a while, think how to stop the loop or your code will be running FOREVER!\n",
    "# Let's make a counter\n",
    "\n",
    "start = 10\n",
    "\n",
    "while start >= 0:\n",
    "    print(start)\n",
    "    start = start-1\n",
    "\n",
    "# Here, we are saying that while the variable start is bigger or equal to zero, we do an action\n",
    "# Or action here is print the start value and, after print, we deduct 1 from the variable\n",
    "# In the last interation, the start is equal to zero, print it in the screen and deduct 1, becoming -1\n",
    "# Now the variable is less than zero, in other words, the while condiction is FALSE and the loop is finished"
   ]
  },
  {
   "cell_type": "code",
   "execution_count": 84,
   "metadata": {},
   "outputs": [
    {
     "name": "stdout",
     "output_type": "stream",
     "text": [
      "0\n",
      "1\n",
      "2\n",
      "3\n",
      "4\n",
      "5\n",
      "6\n",
      "7\n",
      "8\n",
      "9\n",
      "10\n"
     ]
    }
   ],
   "source": [
    "# Let's apply the while to a list\n",
    "# Here we will use the function 'len()' that returns the length of something\n",
    "\n",
    "list_number =[0,1,2,3,4,5,6,7,8,9,10]\n",
    "\n",
    "while len(list_number)>0:\n",
    "    print(list_number[-1]) # -1 here means the last item (reverse index)\n",
    "    list_number.remove(list_number[-1]) # Here we remove the item printed deducting 1 to the list lenght "
   ]
  },
  {
   "cell_type": "code",
   "execution_count": 4,
   "metadata": {},
   "outputs": [
    {
     "name": "stdout",
     "output_type": "stream",
     "text": [
      "10 --> This number is not a odd number! \n",
      "9 --> This number is a odd number\n",
      "8 --> This number is not a odd number! \n",
      "7 --> This number is a odd number\n",
      "6 --> This number is not a odd number! \n",
      "5 --> This number is a odd number\n",
      "4 --> This number is not a odd number! \n",
      "3 --> This number is a odd number\n",
      "2 --> This number is not a odd number! \n",
      "1 --> This number is a odd number\n"
     ]
    }
   ],
   "source": [
    "# Let's use if and else with While\n",
    "\n",
    "var = 10\n",
    "\n",
    "while var >0: # while the our variable \"var\" is bigger than zero\n",
    "    if var %2 == 0: # if the division of var by 2 has a rest equal to zero (even number)\n",
    "        print(var , '--> This number is not a odd number! ')\n",
    "    else:\n",
    "        print(var ,'--> This number is a odd number')\n",
    "    var -= 1 # This is another way to write var = var - 1"
   ]
  },
  {
   "cell_type": "markdown",
   "metadata": {},
   "source": [
    "## Let's Learn about For looping!\n",
    "\n",
    "**For is used when you create a loop to interate for a structure like lists, dictionaries and tuples**"
   ]
  },
  {
   "cell_type": "code",
   "execution_count": 5,
   "metadata": {},
   "outputs": [
    {
     "name": "stdout",
     "output_type": "stream",
     "text": [
      "0\n",
      "1\n",
      "2\n",
      "3\n",
      "4\n",
      "5\n",
      "6\n",
      "7\n",
      "8\n",
      "9\n",
      "10\n"
     ]
    }
   ],
   "source": [
    "# Using a simple list, We will create a counter\n",
    "\n",
    "lis = [0,1,2,3,4,5,6,7,8,9,10]\n",
    "\n",
    "for number in lis: # Think like this> for each item in the list, do...\n",
    "    print(number)"
   ]
  },
  {
   "cell_type": "code",
   "execution_count": 6,
   "metadata": {},
   "outputs": [
    {
     "name": "stdout",
     "output_type": "stream",
     "text": [
      "0\n",
      "1\n",
      "2\n",
      "3\n",
      "4\n",
      "5\n",
      "6\n",
      "7\n",
      "8\n",
      "9\n"
     ]
    }
   ],
   "source": [
    "# Here is an example using the function range\n",
    "for i in range(0,11): # \"range(0,11)\" means -> create a range with numbers from 0 to 11-1\n",
    "    print(i)"
   ]
  },
  {
   "cell_type": "code",
   "execution_count": 9,
   "metadata": {},
   "outputs": [
    {
     "name": "stdout",
     "output_type": "stream",
     "text": [
      "The number is zero\n",
      "1 is an Odd number\n",
      "2 is an Even number\n",
      "3 is an Odd number\n",
      "4 is an Even number\n",
      "5 is an Odd number\n",
      "6 is an Even number\n",
      "7 is an Odd number\n",
      "8 is an Even number\n",
      "9 is an Odd number\n",
      "10 is an Even number\n"
     ]
    }
   ],
   "source": [
    "# Let's see an example of For + if else\n",
    "\n",
    "for i in range(0,11):\n",
    "    if i ==0:\n",
    "        print('The number is zero')\n",
    "    elif i %2 ==0:\n",
    "        print('{} is an Even number'.format(i))\n",
    "    else:\n",
    "        print('{} is an Odd number'.format(i))"
   ]
  },
  {
   "cell_type": "code",
   "execution_count": 18,
   "metadata": {},
   "outputs": [
    {
     "name": "stdout",
     "output_type": "stream",
     "text": [
      "The player Renato has the shirt n°10\n",
      "The player Ibrah has the shirt n°9\n",
      "The player Messi has the shirt n°8\n"
     ]
    }
   ],
   "source": [
    "# Using for in a dictionary, you can use the key and value for each item\n",
    "\n",
    "dic = {'Renato':10, 'Ibrah':9, 'Messi':8}\n",
    "\n",
    "for key, value in dic.items():\n",
    "    print('The player {} has the shirt n°{}'.format(key,value))"
   ]
  },
  {
   "cell_type": "markdown",
   "metadata": {},
   "source": [
    "## Functions!\n",
    "\n",
    "**My favorite way to automate everything!**"
   ]
  },
  {
   "cell_type": "code",
   "execution_count": 33,
   "metadata": {},
   "outputs": [],
   "source": [
    "# Let's create our first function\n",
    "\n",
    "# Using the reserved word \"def\", We declarete a function\n",
    "# We can give any name for the function\n",
    "# This function doesn't receive any parameters\n",
    "\n",
    "def print_name():\n",
    "    print('Renato')"
   ]
  },
  {
   "cell_type": "code",
   "execution_count": 34,
   "metadata": {},
   "outputs": [
    {
     "name": "stdout",
     "output_type": "stream",
     "text": [
      "Renato\n"
     ]
    }
   ],
   "source": [
    "# To run our function, We just need to call\n",
    "\n",
    "print_name()"
   ]
  },
  {
   "cell_type": "code",
   "execution_count": 35,
   "metadata": {},
   "outputs": [
    {
     "name": "stdout",
     "output_type": "stream",
     "text": [
      "Renato\n"
     ]
    }
   ],
   "source": [
    "# Now, let's update this function giving a parameter \n",
    "\n",
    "def print_name(name):\n",
    "    print(name)\n",
    "    \n",
    "# Now We are telling to the function that one parameter called \"name\"  is necessary to work\n",
    "# Calling the function, we MUST pass one value to our parameter\n",
    "\n",
    "print_name('Renato')"
   ]
  },
  {
   "cell_type": "code",
   "execution_count": 37,
   "metadata": {},
   "outputs": [
    {
     "name": "stdout",
     "output_type": "stream",
     "text": [
      "Please, type your name: Renato\n"
     ]
    },
    {
     "data": {
      "text/plain": [
       "'Renato'"
      ]
     },
     "execution_count": 37,
     "metadata": {},
     "output_type": "execute_result"
    }
   ],
   "source": [
    "# We can use the input function inside our function\n",
    "\n",
    "def print_name():\n",
    "    name = input('Please, type your name: ')\n",
    "    return name \n",
    "\n",
    "# Here we use \"return\" to return (obviosly!!!) the value of name\n",
    "# Using the return, you can save the value to use outside the function\n",
    "# The variables inside the function only works inside the function! It's not allowed to use to other functions\n",
    "\n",
    "print_name()"
   ]
  },
  {
   "cell_type": "code",
   "execution_count": 38,
   "metadata": {},
   "outputs": [
    {
     "data": {
      "text/plain": [
       "20.5"
      ]
     },
     "execution_count": 38,
     "metadata": {},
     "output_type": "execute_result"
    }
   ],
   "source": [
    "# Let's try with numbers\n",
    "\n",
    "def hypotenuse(cat_a, cat_o): # this functions receives two parameters: adjacent cateto and opposite cateto\n",
    "    hyp = (cat_a**2 + cat_o**2)*0.5 # Here we put the hypotenuse formula (Pythagoras)\n",
    "    return hyp # return to out of the function the hyp value\n",
    "\n",
    "# Let's try\n",
    "\n",
    "hypotenuse(4,5)"
   ]
  },
  {
   "cell_type": "code",
   "execution_count": 42,
   "metadata": {},
   "outputs": [
    {
     "name": "stdout",
     "output_type": "stream",
     "text": [
      "The hypotenuse value is: 25.0\n"
     ]
    }
   ],
   "source": [
    "# Good, but let's use to returned value to another function\n",
    "\n",
    "value_hyp = hypotenuse(5,5)\n",
    "print('The hypotenuse value is:',value_hyp)"
   ]
  },
  {
   "cell_type": "code",
   "execution_count": 46,
   "metadata": {},
   "outputs": [
    {
     "data": {
      "text/plain": [
       "[4, 9, 16]"
      ]
     },
     "execution_count": 46,
     "metadata": {},
     "output_type": "execute_result"
    }
   ],
   "source": [
    "# Using the for loop inside the function\n",
    "\n",
    "lis = [2,3,4]\n",
    "\n",
    "# This function receive a list of numbers, squared each number and save in an auxiliary list\n",
    "\n",
    "def mult_numbers(list_numbers):\n",
    "    aux_list = []\n",
    "    for number in list_numbers:\n",
    "        squared_number = number**2\n",
    "        aux_list.append(squared_number)\n",
    "    return aux_list\n",
    "\n",
    "mult_numbers(lis)\n",
    "    "
   ]
  },
  {
   "cell_type": "code",
   "execution_count": 48,
   "metadata": {},
   "outputs": [
    {
     "name": "stdout",
     "output_type": "stream",
     "text": [
      "The Orange is cheap!\n",
      "This Grape is an expensive fruit\n",
      "The Banana is cheap!\n",
      "This Pear is an expensive fruit\n"
     ]
    }
   ],
   "source": [
    "# Using if and Else and dictionary\n",
    "\n",
    "dic = {'Orange':1.6, 'Grape':2.5, 'Banana':0.5, 'Pear':2.75}\n",
    "\n",
    "# Passing a dict of fruit options, we will make a function that say if the fruit is cheap or expensive\n",
    "\n",
    "def choose(options):\n",
    "    for k,v in options.items():\n",
    "        if v<2.0:\n",
    "            print('The {} is cheap!'.format(k))\n",
    "        else:\n",
    "            print('This {} is an expensive fruit'.format(k))\n",
    "            \n",
    "choose(dic)       \n",
    "    "
   ]
  },
  {
   "cell_type": "code",
   "execution_count": null,
   "metadata": {},
   "outputs": [],
   "source": []
  }
 ],
 "metadata": {
  "kernelspec": {
   "display_name": "Python 3",
   "language": "python",
   "name": "python3"
  },
  "language_info": {
   "codemirror_mode": {
    "name": "ipython",
    "version": 3
   },
   "file_extension": ".py",
   "mimetype": "text/x-python",
   "name": "python",
   "nbconvert_exporter": "python",
   "pygments_lexer": "ipython3",
   "version": "3.7.1"
  }
 },
 "nbformat": 4,
 "nbformat_minor": 4
}
