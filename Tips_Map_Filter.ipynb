{
 "cells": [
  {
   "cell_type": "markdown",
   "metadata": {},
   "source": [
    "# Smart Tips for Data Scientists!\n",
    "**-----------------------------------------------------------------------------------------------------------------------------**\n",
    "\n",
    "### Today We will learn about: \n",
    "\n",
    "**Command *MAP***\n",
    "\n",
    "**Command *FILTER***\n",
    "\n",
    "**-----------------------------------------------------------------------------------------------------------------------------**"
   ]
  },
  {
   "cell_type": "markdown",
   "metadata": {},
   "source": [
    "\n",
    "## MAP description:\n",
    "**The *MAP* command creat an object that apply a funcion to a list. It's used to replace the for interaction**\n",
    "\n",
    "### Let's have a look on a example\n",
    "\n",
    "Using a list of numbers, let's add +1 for each number"
   ]
  },
  {
   "cell_type": "code",
   "execution_count": 3,
   "metadata": {},
   "outputs": [],
   "source": [
    "list_numbers = [0,1,2,3,4,5,6,7,8,9]"
   ]
  },
  {
   "cell_type": "code",
   "execution_count": 18,
   "metadata": {},
   "outputs": [
    {
     "data": {
      "text/plain": [
       "[1, 2, 3, 4, 5, 6, 7, 8, 9, 10]"
      ]
     },
     "execution_count": 18,
     "metadata": {},
     "output_type": "execute_result"
    }
   ],
   "source": [
    "# Using a for loop - for this example, we'll create a auxiliar list to append the new numbers\n",
    "\n",
    "aux_list = []\n",
    "for number in list_numbers:\n",
    "    number+=1\n",
    "    aux_list.append(number)\n",
    "\n",
    "aux_list"
   ]
  },
  {
   "cell_type": "code",
   "execution_count": 9,
   "metadata": {},
   "outputs": [
    {
     "data": {
      "text/plain": [
       "[1, 2, 3, 4, 5, 6, 7, 8, 9, 10]"
      ]
     },
     "execution_count": 9,
     "metadata": {},
     "output_type": "execute_result"
    }
   ],
   "source": [
    "# Let's do the same using map command with a lambda function\n",
    "\n",
    "list(map(lambda number: number+1, list_numbers))"
   ]
  },
  {
   "cell_type": "markdown",
   "metadata": {},
   "source": [
    "**-----------------------------------------------------------------------------------------------------------------------------**\n",
    "## Step by Step\n",
    "\n",
    "**1°** - The Lambda function sum 1 for each number of our list and return a tuple with the function and the list +1\n",
    "\n",
    "**2°** - We use the map to create an object with the function generated\n",
    "\n",
    "**3°** - We transform the object into a list\n",
    "\n",
    "**-----------------------------------------------------------------------------------------------------------------------------**"
   ]
  },
  {
   "cell_type": "markdown",
   "metadata": {},
   "source": [
    "**-----------------------------------------------------------------------------------------------------------------------------**\n",
    "\n",
    "\n",
    "## Filter description:\n",
    "**The *Filter* command creat an object that apply a search into a list. It's used to replace the for interaction too**\n",
    "\n",
    "### Let's have a look on a example\n",
    "\n",
    "Using a list of numbers, let's take only the par numbers"
   ]
  },
  {
   "cell_type": "code",
   "execution_count": 20,
   "metadata": {},
   "outputs": [
    {
     "data": {
      "text/plain": [
       "[0, 2, 4, 6, 8]"
      ]
     },
     "execution_count": 20,
     "metadata": {},
     "output_type": "execute_result"
    }
   ],
   "source": [
    "list(filter(lambda number: number%2 ==0, list_numbers))"
   ]
  },
  {
   "cell_type": "markdown",
   "metadata": {},
   "source": [
    "### Let's search in a list name only names with more than 5 letters"
   ]
  },
  {
   "cell_type": "code",
   "execution_count": 24,
   "metadata": {},
   "outputs": [
    {
     "data": {
      "text/plain": [
       "['Beatriz', 'Neymar']"
      ]
     },
     "execution_count": 24,
     "metadata": {},
     "output_type": "execute_result"
    }
   ],
   "source": [
    "list_name = ['Peter', 'Jack', 'Beatriz', 'Slash', 'Neymar', 'Ana']\n",
    "\n",
    "list(filter(lambda name: len(name) >5, list_name))"
   ]
  }
 ],
 "metadata": {
  "kernelspec": {
   "display_name": "Python 3",
   "language": "python",
   "name": "python3"
  },
  "language_info": {
   "codemirror_mode": {
    "name": "ipython",
    "version": 3
   },
   "file_extension": ".py",
   "mimetype": "text/x-python",
   "name": "python",
   "nbconvert_exporter": "python",
   "pygments_lexer": "ipython3",
   "version": "3.7.1"
  }
 },
 "nbformat": 4,
 "nbformat_minor": 4
}
